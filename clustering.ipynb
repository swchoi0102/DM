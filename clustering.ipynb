{
 "cells": [
  {
   "cell_type": "code",
   "execution_count": 91,
   "metadata": {
    "collapsed": true
   },
   "outputs": [],
   "source": [
    "import pandas as pd"
   ]
  },
  {
   "cell_type": "code",
   "execution_count": 92,
   "metadata": {
    "collapsed": false,
    "scrolled": true
   },
   "outputs": [],
   "source": [
    "data = pd.read_csv(\"table_count.csv\") # 매출 건수 기준\n",
    "#data = pd.read_csv(\"table_sum.csv\") # 매출 건수 기준"
   ]
  },
  {
   "cell_type": "code",
   "execution_count": 93,
   "metadata": {
    "collapsed": false
   },
   "outputs": [
    {
     "data": {
      "text/html": [
       "<div>\n",
       "<table border=\"1\" class=\"dataframe\">\n",
       "  <thead>\n",
       "    <tr style=\"text-align: right;\">\n",
       "      <th></th>\n",
       "      <th>식품</th>\n",
       "      <th>담배</th>\n",
       "      <th>브랜드화장품</th>\n",
       "      <th>브랜드피혁</th>\n",
       "      <th>브랜드의류</th>\n",
       "      <th>화장품</th>\n",
       "      <th>향수</th>\n",
       "      <th>주류</th>\n",
       "      <th>브랜드귀금속/실버</th>\n",
       "      <th>브랜드패션악세사리</th>\n",
       "      <th>...</th>\n",
       "      <th>편의용품</th>\n",
       "      <th>문구류</th>\n",
       "      <th>귀금속/실버</th>\n",
       "      <th>브랜드편의용품</th>\n",
       "      <th>브랜드오락완구/유아용품</th>\n",
       "      <th>주류/담배</th>\n",
       "      <th>시계</th>\n",
       "      <th>공예품</th>\n",
       "      <th>기획상품</th>\n",
       "      <th>브랜드선글래스</th>\n",
       "    </tr>\n",
       "  </thead>\n",
       "  <tbody>\n",
       "    <tr>\n",
       "      <th>CHN</th>\n",
       "      <td>32436</td>\n",
       "      <td>35221</td>\n",
       "      <td>92</td>\n",
       "      <td>3398</td>\n",
       "      <td>162</td>\n",
       "      <td>121755</td>\n",
       "      <td>5302</td>\n",
       "      <td>4071</td>\n",
       "      <td>359</td>\n",
       "      <td>808</td>\n",
       "      <td>...</td>\n",
       "      <td>50</td>\n",
       "      <td>223</td>\n",
       "      <td>1484</td>\n",
       "      <td>3</td>\n",
       "      <td>0</td>\n",
       "      <td>0</td>\n",
       "      <td>1114</td>\n",
       "      <td>292</td>\n",
       "      <td>9</td>\n",
       "      <td>26</td>\n",
       "    </tr>\n",
       "    <tr>\n",
       "      <th>VNM</th>\n",
       "      <td>426</td>\n",
       "      <td>233</td>\n",
       "      <td>2</td>\n",
       "      <td>27</td>\n",
       "      <td>5</td>\n",
       "      <td>1264</td>\n",
       "      <td>84</td>\n",
       "      <td>308</td>\n",
       "      <td>0</td>\n",
       "      <td>6</td>\n",
       "      <td>...</td>\n",
       "      <td>0</td>\n",
       "      <td>0</td>\n",
       "      <td>1</td>\n",
       "      <td>0</td>\n",
       "      <td>0</td>\n",
       "      <td>0</td>\n",
       "      <td>34</td>\n",
       "      <td>4</td>\n",
       "      <td>0</td>\n",
       "      <td>2</td>\n",
       "    </tr>\n",
       "    <tr>\n",
       "      <th>JPN</th>\n",
       "      <td>10916</td>\n",
       "      <td>3587</td>\n",
       "      <td>95</td>\n",
       "      <td>878</td>\n",
       "      <td>35</td>\n",
       "      <td>9102</td>\n",
       "      <td>598</td>\n",
       "      <td>867</td>\n",
       "      <td>15</td>\n",
       "      <td>181</td>\n",
       "      <td>...</td>\n",
       "      <td>13</td>\n",
       "      <td>44</td>\n",
       "      <td>143</td>\n",
       "      <td>3</td>\n",
       "      <td>0</td>\n",
       "      <td>0</td>\n",
       "      <td>134</td>\n",
       "      <td>214</td>\n",
       "      <td>2</td>\n",
       "      <td>7</td>\n",
       "    </tr>\n",
       "    <tr>\n",
       "      <th>KOR</th>\n",
       "      <td>50372</td>\n",
       "      <td>133702</td>\n",
       "      <td>287</td>\n",
       "      <td>6507</td>\n",
       "      <td>175</td>\n",
       "      <td>156853</td>\n",
       "      <td>16258</td>\n",
       "      <td>19896</td>\n",
       "      <td>151</td>\n",
       "      <td>1757</td>\n",
       "      <td>...</td>\n",
       "      <td>385</td>\n",
       "      <td>1114</td>\n",
       "      <td>3474</td>\n",
       "      <td>4</td>\n",
       "      <td>0</td>\n",
       "      <td>10</td>\n",
       "      <td>4047</td>\n",
       "      <td>1330</td>\n",
       "      <td>68</td>\n",
       "      <td>55</td>\n",
       "    </tr>\n",
       "    <tr>\n",
       "      <th>OTH</th>\n",
       "      <td>14195</td>\n",
       "      <td>6877</td>\n",
       "      <td>27</td>\n",
       "      <td>235</td>\n",
       "      <td>16</td>\n",
       "      <td>12867</td>\n",
       "      <td>2630</td>\n",
       "      <td>5786</td>\n",
       "      <td>18</td>\n",
       "      <td>99</td>\n",
       "      <td>...</td>\n",
       "      <td>17</td>\n",
       "      <td>83</td>\n",
       "      <td>124</td>\n",
       "      <td>0</td>\n",
       "      <td>1</td>\n",
       "      <td>0</td>\n",
       "      <td>186</td>\n",
       "      <td>754</td>\n",
       "      <td>0</td>\n",
       "      <td>4</td>\n",
       "    </tr>\n",
       "  </tbody>\n",
       "</table>\n",
       "<p>5 rows × 29 columns</p>\n",
       "</div>"
      ],
      "text/plain": [
       "        식품      담배  브랜드화장품  브랜드피혁  브랜드의류     화장품     향수     주류  브랜드귀금속/실버  \\\n",
       "CHN  32436   35221      92   3398    162  121755   5302   4071        359   \n",
       "VNM    426     233       2     27      5    1264     84    308          0   \n",
       "JPN  10916    3587      95    878     35    9102    598    867         15   \n",
       "KOR  50372  133702     287   6507    175  156853  16258  19896        151   \n",
       "OTH  14195    6877      27    235     16   12867   2630   5786         18   \n",
       "\n",
       "     브랜드패션악세사리   ...     편의용품   문구류  귀금속/실버  브랜드편의용품  브랜드오락완구/유아용품  주류/담배  \\\n",
       "CHN        808   ...       50   223    1484        3             0      0   \n",
       "VNM          6   ...        0     0       1        0             0      0   \n",
       "JPN        181   ...       13    44     143        3             0      0   \n",
       "KOR       1757   ...      385  1114    3474        4             0     10   \n",
       "OTH         99   ...       17    83     124        0             1      0   \n",
       "\n",
       "       시계   공예품  기획상품  브랜드선글래스  \n",
       "CHN  1114   292     9       26  \n",
       "VNM    34     4     0        2  \n",
       "JPN   134   214     2        7  \n",
       "KOR  4047  1330    68       55  \n",
       "OTH   186   754     0        4  \n",
       "\n",
       "[5 rows x 29 columns]"
      ]
     },
     "execution_count": 93,
     "metadata": {},
     "output_type": "execute_result"
    }
   ],
   "source": [
    "columns = data.columns\n",
    "new_columns = list(columns)[1:]\n",
    "\n",
    "del data[data.columns[-1]]\n",
    "data.columns = new_columns\n",
    "data.head()"
   ]
  },
  {
   "cell_type": "code",
   "execution_count": 94,
   "metadata": {
    "collapsed": false
   },
   "outputs": [],
   "source": [
    "countries = data.index.values"
   ]
  },
  {
   "cell_type": "code",
   "execution_count": 95,
   "metadata": {
    "collapsed": false
   },
   "outputs": [],
   "source": [
    "del data[\"주류/담배\"]   # 이 부분은 품목 전처리 과정에서 오류가 좀 있었음"
   ]
  },
  {
   "cell_type": "code",
   "execution_count": 96,
   "metadata": {
    "collapsed": false
   },
   "outputs": [
    {
     "data": {
      "text/html": [
       "<div>\n",
       "<table border=\"1\" class=\"dataframe\">\n",
       "  <thead>\n",
       "    <tr style=\"text-align: right;\">\n",
       "      <th></th>\n",
       "      <th>식품</th>\n",
       "      <th>담배</th>\n",
       "      <th>브랜드화장품</th>\n",
       "      <th>브랜드피혁</th>\n",
       "      <th>브랜드의류</th>\n",
       "      <th>화장품</th>\n",
       "      <th>향수</th>\n",
       "      <th>주류</th>\n",
       "      <th>브랜드귀금속/실버</th>\n",
       "      <th>브랜드패션악세사리</th>\n",
       "      <th>...</th>\n",
       "      <th>선글래스</th>\n",
       "      <th>편의용품</th>\n",
       "      <th>문구류</th>\n",
       "      <th>귀금속/실버</th>\n",
       "      <th>브랜드편의용품</th>\n",
       "      <th>브랜드오락완구/유아용품</th>\n",
       "      <th>시계</th>\n",
       "      <th>공예품</th>\n",
       "      <th>기획상품</th>\n",
       "      <th>브랜드선글래스</th>\n",
       "    </tr>\n",
       "  </thead>\n",
       "  <tbody>\n",
       "    <tr>\n",
       "      <th>CHN</th>\n",
       "      <td>32436</td>\n",
       "      <td>35221</td>\n",
       "      <td>92</td>\n",
       "      <td>3398</td>\n",
       "      <td>162</td>\n",
       "      <td>121755</td>\n",
       "      <td>5302</td>\n",
       "      <td>4071</td>\n",
       "      <td>359</td>\n",
       "      <td>808</td>\n",
       "      <td>...</td>\n",
       "      <td>3337</td>\n",
       "      <td>50</td>\n",
       "      <td>223</td>\n",
       "      <td>1484</td>\n",
       "      <td>3</td>\n",
       "      <td>0</td>\n",
       "      <td>1114</td>\n",
       "      <td>292</td>\n",
       "      <td>9</td>\n",
       "      <td>26</td>\n",
       "    </tr>\n",
       "    <tr>\n",
       "      <th>VNM</th>\n",
       "      <td>426</td>\n",
       "      <td>233</td>\n",
       "      <td>2</td>\n",
       "      <td>27</td>\n",
       "      <td>5</td>\n",
       "      <td>1264</td>\n",
       "      <td>84</td>\n",
       "      <td>308</td>\n",
       "      <td>0</td>\n",
       "      <td>6</td>\n",
       "      <td>...</td>\n",
       "      <td>67</td>\n",
       "      <td>0</td>\n",
       "      <td>0</td>\n",
       "      <td>1</td>\n",
       "      <td>0</td>\n",
       "      <td>0</td>\n",
       "      <td>34</td>\n",
       "      <td>4</td>\n",
       "      <td>0</td>\n",
       "      <td>2</td>\n",
       "    </tr>\n",
       "    <tr>\n",
       "      <th>JPN</th>\n",
       "      <td>10916</td>\n",
       "      <td>3587</td>\n",
       "      <td>95</td>\n",
       "      <td>878</td>\n",
       "      <td>35</td>\n",
       "      <td>9102</td>\n",
       "      <td>598</td>\n",
       "      <td>867</td>\n",
       "      <td>15</td>\n",
       "      <td>181</td>\n",
       "      <td>...</td>\n",
       "      <td>272</td>\n",
       "      <td>13</td>\n",
       "      <td>44</td>\n",
       "      <td>143</td>\n",
       "      <td>3</td>\n",
       "      <td>0</td>\n",
       "      <td>134</td>\n",
       "      <td>214</td>\n",
       "      <td>2</td>\n",
       "      <td>7</td>\n",
       "    </tr>\n",
       "    <tr>\n",
       "      <th>KOR</th>\n",
       "      <td>50372</td>\n",
       "      <td>133702</td>\n",
       "      <td>287</td>\n",
       "      <td>6507</td>\n",
       "      <td>175</td>\n",
       "      <td>156853</td>\n",
       "      <td>16258</td>\n",
       "      <td>19896</td>\n",
       "      <td>151</td>\n",
       "      <td>1757</td>\n",
       "      <td>...</td>\n",
       "      <td>14292</td>\n",
       "      <td>385</td>\n",
       "      <td>1114</td>\n",
       "      <td>3474</td>\n",
       "      <td>4</td>\n",
       "      <td>0</td>\n",
       "      <td>4047</td>\n",
       "      <td>1330</td>\n",
       "      <td>68</td>\n",
       "      <td>55</td>\n",
       "    </tr>\n",
       "    <tr>\n",
       "      <th>OTH</th>\n",
       "      <td>14195</td>\n",
       "      <td>6877</td>\n",
       "      <td>27</td>\n",
       "      <td>235</td>\n",
       "      <td>16</td>\n",
       "      <td>12867</td>\n",
       "      <td>2630</td>\n",
       "      <td>5786</td>\n",
       "      <td>18</td>\n",
       "      <td>99</td>\n",
       "      <td>...</td>\n",
       "      <td>392</td>\n",
       "      <td>17</td>\n",
       "      <td>83</td>\n",
       "      <td>124</td>\n",
       "      <td>0</td>\n",
       "      <td>1</td>\n",
       "      <td>186</td>\n",
       "      <td>754</td>\n",
       "      <td>0</td>\n",
       "      <td>4</td>\n",
       "    </tr>\n",
       "  </tbody>\n",
       "</table>\n",
       "<p>5 rows × 28 columns</p>\n",
       "</div>"
      ],
      "text/plain": [
       "        식품      담배  브랜드화장품  브랜드피혁  브랜드의류     화장품     향수     주류  브랜드귀금속/실버  \\\n",
       "CHN  32436   35221      92   3398    162  121755   5302   4071        359   \n",
       "VNM    426     233       2     27      5    1264     84    308          0   \n",
       "JPN  10916    3587      95    878     35    9102    598    867         15   \n",
       "KOR  50372  133702     287   6507    175  156853  16258  19896        151   \n",
       "OTH  14195    6877      27    235     16   12867   2630   5786         18   \n",
       "\n",
       "     브랜드패션악세사리   ...      선글래스  편의용품   문구류  귀금속/실버  브랜드편의용품  브랜드오락완구/유아용품  \\\n",
       "CHN        808   ...      3337    50   223    1484        3             0   \n",
       "VNM          6   ...        67     0     0       1        0             0   \n",
       "JPN        181   ...       272    13    44     143        3             0   \n",
       "KOR       1757   ...     14292   385  1114    3474        4             0   \n",
       "OTH         99   ...       392    17    83     124        0             1   \n",
       "\n",
       "       시계   공예품  기획상품  브랜드선글래스  \n",
       "CHN  1114   292     9       26  \n",
       "VNM    34     4     0        2  \n",
       "JPN   134   214     2        7  \n",
       "KOR  4047  1330    68       55  \n",
       "OTH   186   754     0        4  \n",
       "\n",
       "[5 rows x 28 columns]"
      ]
     },
     "execution_count": 96,
     "metadata": {},
     "output_type": "execute_result"
    }
   ],
   "source": [
    "X = data\n",
    "X.head()"
   ]
  },
  {
   "cell_type": "code",
   "execution_count": 97,
   "metadata": {
    "collapsed": false,
    "scrolled": true
   },
   "outputs": [],
   "source": [
    "X = X.div(X.sum(axis=1), axis=0) # normalize data"
   ]
  },
  {
   "cell_type": "code",
   "execution_count": 98,
   "metadata": {
    "collapsed": false
   },
   "outputs": [
    {
     "data": {
      "text/html": [
       "<div>\n",
       "<table border=\"1\" class=\"dataframe\">\n",
       "  <thead>\n",
       "    <tr style=\"text-align: right;\">\n",
       "      <th></th>\n",
       "      <th>식품</th>\n",
       "      <th>담배</th>\n",
       "      <th>브랜드화장품</th>\n",
       "      <th>브랜드피혁</th>\n",
       "      <th>브랜드의류</th>\n",
       "      <th>화장품</th>\n",
       "      <th>향수</th>\n",
       "      <th>주류</th>\n",
       "      <th>브랜드귀금속/실버</th>\n",
       "      <th>브랜드패션악세사리</th>\n",
       "      <th>...</th>\n",
       "      <th>선글래스</th>\n",
       "      <th>편의용품</th>\n",
       "      <th>문구류</th>\n",
       "      <th>귀금속/실버</th>\n",
       "      <th>브랜드편의용품</th>\n",
       "      <th>브랜드오락완구/유아용품</th>\n",
       "      <th>시계</th>\n",
       "      <th>공예품</th>\n",
       "      <th>기획상품</th>\n",
       "      <th>브랜드선글래스</th>\n",
       "    </tr>\n",
       "  </thead>\n",
       "  <tbody>\n",
       "    <tr>\n",
       "      <th>CHN</th>\n",
       "      <td>0.146591</td>\n",
       "      <td>0.159178</td>\n",
       "      <td>0.000416</td>\n",
       "      <td>0.015357</td>\n",
       "      <td>0.000732</td>\n",
       "      <td>0.550260</td>\n",
       "      <td>0.023962</td>\n",
       "      <td>0.018399</td>\n",
       "      <td>0.001622</td>\n",
       "      <td>0.003652</td>\n",
       "      <td>...</td>\n",
       "      <td>0.015081</td>\n",
       "      <td>0.000226</td>\n",
       "      <td>0.001008</td>\n",
       "      <td>0.006707</td>\n",
       "      <td>0.000014</td>\n",
       "      <td>0.00000</td>\n",
       "      <td>0.005035</td>\n",
       "      <td>0.001320</td>\n",
       "      <td>0.000041</td>\n",
       "      <td>0.000118</td>\n",
       "    </tr>\n",
       "    <tr>\n",
       "      <th>VNM</th>\n",
       "      <td>0.162782</td>\n",
       "      <td>0.089033</td>\n",
       "      <td>0.000764</td>\n",
       "      <td>0.010317</td>\n",
       "      <td>0.001911</td>\n",
       "      <td>0.482996</td>\n",
       "      <td>0.032098</td>\n",
       "      <td>0.117692</td>\n",
       "      <td>0.000000</td>\n",
       "      <td>0.002293</td>\n",
       "      <td>...</td>\n",
       "      <td>0.025602</td>\n",
       "      <td>0.000000</td>\n",
       "      <td>0.000000</td>\n",
       "      <td>0.000382</td>\n",
       "      <td>0.000000</td>\n",
       "      <td>0.00000</td>\n",
       "      <td>0.012992</td>\n",
       "      <td>0.001528</td>\n",
       "      <td>0.000000</td>\n",
       "      <td>0.000764</td>\n",
       "    </tr>\n",
       "    <tr>\n",
       "      <th>JPN</th>\n",
       "      <td>0.383367</td>\n",
       "      <td>0.125975</td>\n",
       "      <td>0.003336</td>\n",
       "      <td>0.030835</td>\n",
       "      <td>0.001229</td>\n",
       "      <td>0.319660</td>\n",
       "      <td>0.021002</td>\n",
       "      <td>0.030449</td>\n",
       "      <td>0.000527</td>\n",
       "      <td>0.006357</td>\n",
       "      <td>...</td>\n",
       "      <td>0.009553</td>\n",
       "      <td>0.000457</td>\n",
       "      <td>0.001545</td>\n",
       "      <td>0.005022</td>\n",
       "      <td>0.000105</td>\n",
       "      <td>0.00000</td>\n",
       "      <td>0.004706</td>\n",
       "      <td>0.007516</td>\n",
       "      <td>0.000070</td>\n",
       "      <td>0.000246</td>\n",
       "    </tr>\n",
       "    <tr>\n",
       "      <th>KOR</th>\n",
       "      <td>0.115576</td>\n",
       "      <td>0.306772</td>\n",
       "      <td>0.000659</td>\n",
       "      <td>0.014930</td>\n",
       "      <td>0.000402</td>\n",
       "      <td>0.359891</td>\n",
       "      <td>0.037303</td>\n",
       "      <td>0.045650</td>\n",
       "      <td>0.000346</td>\n",
       "      <td>0.004031</td>\n",
       "      <td>...</td>\n",
       "      <td>0.032792</td>\n",
       "      <td>0.000883</td>\n",
       "      <td>0.002556</td>\n",
       "      <td>0.007971</td>\n",
       "      <td>0.000009</td>\n",
       "      <td>0.00000</td>\n",
       "      <td>0.009286</td>\n",
       "      <td>0.003052</td>\n",
       "      <td>0.000156</td>\n",
       "      <td>0.000126</td>\n",
       "    </tr>\n",
       "    <tr>\n",
       "      <th>OTH</th>\n",
       "      <td>0.287604</td>\n",
       "      <td>0.139335</td>\n",
       "      <td>0.000547</td>\n",
       "      <td>0.004761</td>\n",
       "      <td>0.000324</td>\n",
       "      <td>0.260698</td>\n",
       "      <td>0.053286</td>\n",
       "      <td>0.117230</td>\n",
       "      <td>0.000365</td>\n",
       "      <td>0.002006</td>\n",
       "      <td>...</td>\n",
       "      <td>0.007942</td>\n",
       "      <td>0.000344</td>\n",
       "      <td>0.001682</td>\n",
       "      <td>0.002512</td>\n",
       "      <td>0.000000</td>\n",
       "      <td>0.00002</td>\n",
       "      <td>0.003769</td>\n",
       "      <td>0.015277</td>\n",
       "      <td>0.000000</td>\n",
       "      <td>0.000081</td>\n",
       "    </tr>\n",
       "  </tbody>\n",
       "</table>\n",
       "<p>5 rows × 28 columns</p>\n",
       "</div>"
      ],
      "text/plain": [
       "           식품        담배    브랜드화장품     브랜드피혁     브랜드의류       화장품        향수  \\\n",
       "CHN  0.146591  0.159178  0.000416  0.015357  0.000732  0.550260  0.023962   \n",
       "VNM  0.162782  0.089033  0.000764  0.010317  0.001911  0.482996  0.032098   \n",
       "JPN  0.383367  0.125975  0.003336  0.030835  0.001229  0.319660  0.021002   \n",
       "KOR  0.115576  0.306772  0.000659  0.014930  0.000402  0.359891  0.037303   \n",
       "OTH  0.287604  0.139335  0.000547  0.004761  0.000324  0.260698  0.053286   \n",
       "\n",
       "           주류  브랜드귀금속/실버  브랜드패션악세사리    ...         선글래스      편의용품       문구류  \\\n",
       "CHN  0.018399   0.001622   0.003652    ...     0.015081  0.000226  0.001008   \n",
       "VNM  0.117692   0.000000   0.002293    ...     0.025602  0.000000  0.000000   \n",
       "JPN  0.030449   0.000527   0.006357    ...     0.009553  0.000457  0.001545   \n",
       "KOR  0.045650   0.000346   0.004031    ...     0.032792  0.000883  0.002556   \n",
       "OTH  0.117230   0.000365   0.002006    ...     0.007942  0.000344  0.001682   \n",
       "\n",
       "       귀금속/실버   브랜드편의용품  브랜드오락완구/유아용품        시계       공예품      기획상품   브랜드선글래스  \n",
       "CHN  0.006707  0.000014       0.00000  0.005035  0.001320  0.000041  0.000118  \n",
       "VNM  0.000382  0.000000       0.00000  0.012992  0.001528  0.000000  0.000764  \n",
       "JPN  0.005022  0.000105       0.00000  0.004706  0.007516  0.000070  0.000246  \n",
       "KOR  0.007971  0.000009       0.00000  0.009286  0.003052  0.000156  0.000126  \n",
       "OTH  0.002512  0.000000       0.00002  0.003769  0.015277  0.000000  0.000081  \n",
       "\n",
       "[5 rows x 28 columns]"
      ]
     },
     "execution_count": 98,
     "metadata": {},
     "output_type": "execute_result"
    }
   ],
   "source": [
    "X.head()"
   ]
  },
  {
   "cell_type": "code",
   "execution_count": 99,
   "metadata": {
    "collapsed": false
   },
   "outputs": [],
   "source": [
    "from sklearn import metrics\n",
    "from sklearn.metrics import pairwise_distances\n",
    "from sklearn.cluster import KMeans\n",
    "from sklearn import decomposition"
   ]
  },
  {
   "cell_type": "code",
   "execution_count": 100,
   "metadata": {
    "collapsed": false
   },
   "outputs": [
    {
     "data": {
      "text/plain": [
       "(27, 28)"
      ]
     },
     "execution_count": 100,
     "metadata": {},
     "output_type": "execute_result"
    }
   ],
   "source": [
    "X.shape"
   ]
  },
  {
   "cell_type": "code",
   "execution_count": 102,
   "metadata": {
    "collapsed": false
   },
   "outputs": [
    {
     "name": "stdout",
     "output_type": "stream",
     "text": [
      "[  76.74915059   86.91809511   92.51504861   96.57064819   98.17432754\n",
      "   98.69986631   99.12946407   99.42610074   99.62804989   99.7644571\n",
      "   99.86855627   99.92186731   99.9539197    99.97500487   99.98806156\n",
      "   99.99265016   99.99592255   99.99764051   99.99874354   99.99937724\n",
      "   99.99966636   99.99983529   99.99996242   99.99999745   99.99999999\n",
      "  100.          100.        ]\n"
     ]
    }
   ],
   "source": [
    "pca = decomposition.PCA()\n",
    "pca.fit(X)\n",
    "\n",
    "import numpy as np\n",
    "print(np.cumsum(pca.explained_variance_ratio_ * 100))  # explained variance ratio"
   ]
  },
  {
   "cell_type": "code",
   "execution_count": 104,
   "metadata": {
    "collapsed": true
   },
   "outputs": [],
   "source": [
    "pca = decomposition.PCA(n_components=7)\n",
    "X_pca = pca.fit(X).transform(X)  # pca로 차원축소된 데이터"
   ]
  },
  {
   "cell_type": "markdown",
   "metadata": {},
   "source": [
    "['euclidean', 'l2', 'l1', 'manhattan', 'cityblock', 'braycurtis', 'canberra', 'chebyshev', 'correlation', 'cosine', 'dice', 'hamming', 'jaccard', 'kulsinski', 'mahalanobis', 'matching', 'minkowski', 'rogerstanimoto', 'russellrao', 'seuclidean', 'sokalmichener', 'sokalsneath', 'sqeuclidean', 'yule', 'wminkowski']"
   ]
  },
  {
   "cell_type": "code",
   "execution_count": 105,
   "metadata": {
    "collapsed": false
   },
   "outputs": [],
   "source": [
    "result = []  # 실루엣 값들을 저장할 list\n",
    "\n",
    "for i in range(2, 10):\n",
    "    kmeans = KMeans(n_clusters=i).fit(X_pca)  # pca 처리한 데이터\n",
    "    #kmeans = KMeans(n_clusters=i).fit(X)    # pca 없이 그대로\n",
    "    result.append(metrics.silhouette_score(X_pca, kmeans.labels_, metric=\"euclidean\"))  # 실루엣"
   ]
  },
  {
   "cell_type": "code",
   "execution_count": 106,
   "metadata": {
    "collapsed": false
   },
   "outputs": [
    {
     "name": "stdout",
     "output_type": "stream",
     "text": [
      "[0.48002432702594028, 0.37563568375252554, 0.33524871659820871, 0.35840012294072782, 0.39661634960891551, 0.36941484621853671, 0.38325324109149006, 0.41983471019987556]\n"
     ]
    }
   ],
   "source": [
    "print (result)  # 실루엣 값들"
   ]
  },
  {
   "cell_type": "code",
   "execution_count": 108,
   "metadata": {
    "collapsed": false
   },
   "outputs": [],
   "source": [
    "K = 6    # the number of clusters\n",
    "#kmeans = KMeans(n_clusters = K).fit(X) # pca 없이 그대로\n",
    "kmeans = KMeans(n_clusters = K).fit(X_pca) # pca 처리한 데이터"
   ]
  },
  {
   "cell_type": "code",
   "execution_count": 109,
   "metadata": {
    "collapsed": false
   },
   "outputs": [
    {
     "data": {
      "text/plain": [
       "array([2, 2, 4, 5, 4, 4, 2, 3, 2, 2, 2, 4, 1, 2, 1, 1, 1, 1, 1, 4, 3, 3, 2,\n",
       "       3, 3, 1, 0])"
      ]
     },
     "execution_count": 109,
     "metadata": {},
     "output_type": "execute_result"
    }
   ],
   "source": [
    "kmeans.labels_"
   ]
  },
  {
   "cell_type": "code",
   "execution_count": 110,
   "metadata": {
    "collapsed": false
   },
   "outputs": [
    {
     "name": "stdout",
     "output_type": "stream",
     "text": [
      "['ORS']\n",
      "['GBR' 'PHL' 'IDN' 'AUS' 'CAN' 'FRA' 'IND']\n",
      "['CHN' 'VNM' 'THA' 'SGP' 'USA' 'TWN' 'ASI' 'HKG']\n",
      "['RST' 'MAS' 'INA' 'PHI' 'SEA']\n",
      "['JPN' 'OTH' 'RUS' 'MYS' 'EUR']\n",
      "['KOR']\n"
     ]
    }
   ],
   "source": [
    "for i in range(K):\n",
    "    print(countries[kmeans.labels_ == i])"
   ]
  },
  {
   "cell_type": "code",
   "execution_count": null,
   "metadata": {
    "collapsed": true
   },
   "outputs": [],
   "source": []
  }
 ],
 "metadata": {
  "anaconda-cloud": {},
  "kernelspec": {
   "display_name": "Python [default]",
   "language": "python",
   "name": "python3"
  },
  "language_info": {
   "codemirror_mode": {
    "name": "ipython",
    "version": 3
   },
   "file_extension": ".py",
   "mimetype": "text/x-python",
   "name": "python",
   "nbconvert_exporter": "python",
   "pygments_lexer": "ipython3",
   "version": "3.5.2"
  }
 },
 "nbformat": 4,
 "nbformat_minor": 1
}
