{
 "cells": [
  {
   "cell_type": "code",
   "execution_count": 1,
   "metadata": {
    "collapsed": true
   },
   "outputs": [],
   "source": [
    "import pandas as pd"
   ]
  },
  {
   "cell_type": "code",
   "execution_count": 2,
   "metadata": {
    "collapsed": false
   },
   "outputs": [],
   "source": [
    "data = pd.read_csv(\"sales9.csv\")"
   ]
  },
  {
   "cell_type": "code",
   "execution_count": 3,
   "metadata": {
    "collapsed": false
   },
   "outputs": [
    {
     "data": {
      "text/html": [
       "<div>\n",
       "<table border=\"1\" class=\"dataframe\">\n",
       "  <thead>\n",
       "    <tr style=\"text-align: right;\">\n",
       "      <th></th>\n",
       "      <th>Unnamed: 0</th>\n",
       "      <th>DATE</th>\n",
       "      <th>ITEM</th>\n",
       "      <th>BRAND</th>\n",
       "      <th>COUNTRY</th>\n",
       "      <th>REVENUE</th>\n",
       "    </tr>\n",
       "  </thead>\n",
       "  <tbody>\n",
       "    <tr>\n",
       "      <th>0</th>\n",
       "      <td>0</td>\n",
       "      <td>2016-04-29 12:09:42</td>\n",
       "      <td>식품</td>\n",
       "      <td>0.0</td>\n",
       "      <td>CHN</td>\n",
       "      <td>49273.0</td>\n",
       "    </tr>\n",
       "    <tr>\n",
       "      <th>1</th>\n",
       "      <td>1</td>\n",
       "      <td>2016-04-29 12:11:34</td>\n",
       "      <td>담배</td>\n",
       "      <td>0.0</td>\n",
       "      <td>CHN</td>\n",
       "      <td>33191.0</td>\n",
       "    </tr>\n",
       "    <tr>\n",
       "      <th>2</th>\n",
       "      <td>2</td>\n",
       "      <td>2016-04-29 12:11:34</td>\n",
       "      <td>담배</td>\n",
       "      <td>0.0</td>\n",
       "      <td>CHN</td>\n",
       "      <td>25209.0</td>\n",
       "    </tr>\n",
       "    <tr>\n",
       "      <th>3</th>\n",
       "      <td>3</td>\n",
       "      <td>2016-04-29 12:12:20</td>\n",
       "      <td>식품</td>\n",
       "      <td>0.0</td>\n",
       "      <td>CHN</td>\n",
       "      <td>13750.0</td>\n",
       "    </tr>\n",
       "    <tr>\n",
       "      <th>4</th>\n",
       "      <td>4</td>\n",
       "      <td>2016-04-29 12:16:48</td>\n",
       "      <td>식품</td>\n",
       "      <td>0.0</td>\n",
       "      <td>CHN</td>\n",
       "      <td>182179.0</td>\n",
       "    </tr>\n",
       "  </tbody>\n",
       "</table>\n",
       "</div>"
      ],
      "text/plain": [
       "   Unnamed: 0                 DATE ITEM BRAND COUNTRY   REVENUE\n",
       "0           0  2016-04-29 12:09:42   식품   0.0     CHN   49273.0\n",
       "1           1  2016-04-29 12:11:34   담배   0.0     CHN   33191.0\n",
       "2           2  2016-04-29 12:11:34   담배   0.0     CHN   25209.0\n",
       "3           3  2016-04-29 12:12:20   식품   0.0     CHN   13750.0\n",
       "4           4  2016-04-29 12:16:48   식품   0.0     CHN  182179.0"
      ]
     },
     "execution_count": 3,
     "metadata": {},
     "output_type": "execute_result"
    }
   ],
   "source": [
    "data.head()"
   ]
  },
  {
   "cell_type": "code",
   "execution_count": 4,
   "metadata": {
    "collapsed": false
   },
   "outputs": [
    {
     "data": {
      "text/plain": [
       "array(['0.0', '1.0', '쌤소나이트'], dtype=object)"
      ]
     },
     "execution_count": 4,
     "metadata": {},
     "output_type": "execute_result"
    }
   ],
   "source": [
    "data[\"BRAND\"].unique()"
   ]
  },
  {
   "cell_type": "code",
   "execution_count": 5,
   "metadata": {
    "collapsed": false
   },
   "outputs": [
    {
     "data": {
      "text/plain": [
       "array(['식품', '담배', '화장품', '피혁', '의류', '향수', '주류', '귀금속/실버', '패션악세사리',\n",
       "       '전자제품', '기념품', '오락완구/유아용품', '시계', '선글래스', '편의용품', '문구류', '주류/담배',\n",
       "       '공예품', '기획상품'], dtype=object)"
      ]
     },
     "execution_count": 5,
     "metadata": {},
     "output_type": "execute_result"
    }
   ],
   "source": [
    "data[\"ITEM\"].unique()"
   ]
  },
  {
   "cell_type": "code",
   "execution_count": 6,
   "metadata": {
    "collapsed": false
   },
   "outputs": [],
   "source": [
    "data[\"BRAND\"].replace('쌤소나이트', '0.0', inplace=True)  # 쌤소나이트는 브랜드가 아닌것으로 분류\n",
    "data[\"BRAND\"].replace([\"0.0\", \"1.0\"],[0, 1], inplace=True)"
   ]
  },
  {
   "cell_type": "code",
   "execution_count": 7,
   "metadata": {
    "collapsed": false
   },
   "outputs": [
    {
     "data": {
      "text/plain": [
       "array([0, 1], dtype=int64)"
      ]
     },
     "execution_count": 7,
     "metadata": {},
     "output_type": "execute_result"
    }
   ],
   "source": [
    "data[\"BRAND\"].unique()"
   ]
  },
  {
   "cell_type": "code",
   "execution_count": 8,
   "metadata": {
    "collapsed": false
   },
   "outputs": [],
   "source": [
    "def label_race(row):      # BRAND열과 ITEM열을 합쳐서 ITEM에 저장.  ex) 브랜드=1, ITEM=의류 => 브랜드의류\n",
    "    if row[\"BRAND\"] == 0:\n",
    "        return row[\"ITEM\"]\n",
    "    else:\n",
    "        return \"브랜드\" + row[\"ITEM\"]\n",
    "\n",
    "data[\"ITEM\"] = data.apply(lambda row: label_race(row), axis=1)"
   ]
  },
  {
   "cell_type": "code",
   "execution_count": 9,
   "metadata": {
    "collapsed": false
   },
   "outputs": [],
   "source": [
    "ITEMS = data[\"ITEM\"].unique()\n",
    "COUNTRIES = data[\"COUNTRY\"].unique()"
   ]
  },
  {
   "cell_type": "code",
   "execution_count": 10,
   "metadata": {
    "collapsed": false
   },
   "outputs": [
    {
     "name": "stdout",
     "output_type": "stream",
     "text": [
      "CHN start\n",
      "\n",
      "CHN END\n",
      "\n",
      "VNM start\n",
      "\n",
      "VNM END\n",
      "\n",
      "JPN start\n",
      "\n",
      "JPN END\n",
      "\n",
      "KOR start\n",
      "\n",
      "KOR END\n",
      "\n",
      "OTH start\n",
      "\n",
      "OTH END\n",
      "\n",
      "RUS start\n",
      "\n",
      "RUS END\n",
      "\n",
      "THA start\n",
      "\n",
      "THA END\n",
      "\n",
      "RST start\n",
      "\n",
      "RST END\n",
      "\n",
      "SGP start\n",
      "\n",
      "SGP END\n",
      "\n",
      "USA start\n",
      "\n",
      "USA END\n",
      "\n",
      "TWN start\n",
      "\n",
      "TWN END\n",
      "\n",
      "MYS start\n",
      "\n",
      "MYS END\n",
      "\n",
      "GBR start\n",
      "\n",
      "GBR END\n",
      "\n",
      "ASI start\n",
      "\n",
      "ASI END\n",
      "\n",
      "PHL start\n",
      "\n",
      "PHL END\n",
      "\n",
      "IDN start\n",
      "\n",
      "IDN END\n",
      "\n",
      "AUS start\n",
      "\n",
      "AUS END\n",
      "\n",
      "CAN start\n",
      "\n",
      "CAN END\n",
      "\n",
      "FRA start\n",
      "\n",
      "FRA END\n",
      "\n",
      "EUR start\n",
      "\n",
      "EUR END\n",
      "\n",
      "MAS start\n",
      "\n",
      "MAS END\n",
      "\n",
      "INA start\n",
      "\n",
      "INA END\n",
      "\n",
      "HKG start\n",
      "\n",
      "HKG END\n",
      "\n",
      "PHI start\n",
      "\n",
      "PHI END\n",
      "\n",
      "SEA start\n",
      "\n",
      "SEA END\n",
      "\n",
      "IND start\n",
      "\n",
      "IND END\n",
      "\n",
      "ORS start\n",
      "\n",
      "ORS END\n",
      "\n"
     ]
    }
   ],
   "source": [
    "with open(\"table_sum.csv\", \"w\", encoding =\"utf-8\") as f:\n",
    "    \n",
    "    f.write(\",\" + \",\".join(data[\"ITEM\"].unique())+\"\\n\")\n",
    "    \n",
    "    for c in COUNTRIES:\n",
    "        \n",
    "        print(c+\" start\\n\")  #진행상황을 확인하기 위한 print문\n",
    "        \n",
    "        line = c + \",\"\n",
    "            \n",
    "        for i in ITEMS:\n",
    "            # country c와 item i에 해당되는 매출건수를 센다.\n",
    "            #line += str(data.ix[(data['COUNTRY'] == c) & (data['ITEM'] == i)].count()[0]) + ',' \n",
    "            \n",
    "            # 매출액 기준일경우\n",
    "            line += str(data.ix[(data['COUNTRY'] == c) & (data['ITEM'] == i)].sum()[5]) + ',' \n",
    "            \n",
    "        line += \"\\n\"\n",
    "        \n",
    "        print(c+\" END\\n\")   #진행상황을 확인하기 위한 print문\n",
    "        \n",
    "        f.write(line)"
   ]
  },
  {
   "cell_type": "code",
   "execution_count": null,
   "metadata": {
    "collapsed": true
   },
   "outputs": [],
   "source": []
  }
 ],
 "metadata": {
  "anaconda-cloud": {},
  "kernelspec": {
   "display_name": "Python [default]",
   "language": "python",
   "name": "python3"
  },
  "language_info": {
   "codemirror_mode": {
    "name": "ipython",
    "version": 3
   },
   "file_extension": ".py",
   "mimetype": "text/x-python",
   "name": "python",
   "nbconvert_exporter": "python",
   "pygments_lexer": "ipython3",
   "version": "3.5.2"
  }
 },
 "nbformat": 4,
 "nbformat_minor": 1
}
